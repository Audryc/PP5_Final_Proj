{
 "cells": [
  {
   "cell_type": "code",
   "execution_count": null,
   "metadata": {
    "collapsed": true
   },
   "outputs": [],
   "source": [
    "Generate the numbers 1 to 100.\n",
    "\n",
    "Do the following first by list comprehension and then do it again by using map and filter:\n",
    "\n",
    "Square the numbers.\n",
    "Select just the squares that are odd.\n",
    "What does reduce do? Use it to do the following:\n",
    "\n",
    "Add up the numbers 1 to 100.\n",
    "Square the numbers.\n",
    "Select just the numbers that are odd."
   ]
  },
  {
   "cell_type": "code",
   "execution_count": 1,
   "metadata": {
    "collapsed": true
   },
   "outputs": [],
   "source": [
    "num = xrange(1,101)\n",
    "list_comp = [i*i for i in num if (i*i)%2 != 0]"
   ]
  },
  {
   "cell_type": "code",
   "execution_count": 9,
   "metadata": {
    "collapsed": false
   },
   "outputs": [],
   "source": [
    "mapping = map(lambda x: x*x, num)\n",
    "filtering = filter(lambda x: x%2 !=0, mapping)"
   ]
  },
  {
   "cell_type": "code",
   "execution_count": 7,
   "metadata": {
    "collapsed": true
   },
   "outputs": [],
   "source": [
    "reducing1 = reduce(lambda x,y:x+y, num)"
   ]
  },
  {
   "cell_type": "code",
   "execution_count": 11,
   "metadata": {
    "collapsed": false
   },
   "outputs": [],
   "source": [
    "reducing2 = reduce(lambda x,y: x+[y**2], num, [])#similar to map"
   ]
  },
  {
   "cell_type": "code",
   "execution_count": 13,
   "metadata": {
    "collapsed": false
   },
   "outputs": [],
   "source": [
    "reducing3 = reduce(lambda x,y: x+[y] if y %2 != 0 else x, reducing2, [])"
   ]
  },
  {
   "cell_type": "code",
   "execution_count": null,
   "metadata": {
    "collapsed": true
   },
   "outputs": [],
   "source": []
  }
 ],
 "metadata": {
  "kernelspec": {
   "display_name": "Python 2",
   "language": "python",
   "name": "python2"
  },
  "language_info": {
   "codemirror_mode": {
    "name": "ipython",
    "version": 2
   },
   "file_extension": ".py",
   "mimetype": "text/x-python",
   "name": "python",
   "nbconvert_exporter": "python",
   "pygments_lexer": "ipython2",
   "version": "2.7.10"
  }
 },
 "nbformat": 4,
 "nbformat_minor": 0
}
