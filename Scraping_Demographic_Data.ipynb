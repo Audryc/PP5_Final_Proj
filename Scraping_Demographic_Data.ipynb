{
 "cells": [
  {
   "cell_type": "markdown",
   "metadata": {},
   "source": [
    "# Scraping Demographic Data\n",
    "\n",
    "1. Scrap Zip Code \n",
    "2. Scrap HTML page for each zip code\n",
    "    using zip_code_list\n",
    "3. Parse HTML Data\n",
    "    create a dictionary to contain data\n",
    "4. Dictionary -> Data Frame\n",
    "5. Data Frame -> CSV file\n"
   ]
  },
  {
   "cell_type": "code",
   "execution_count": null,
   "metadata": {
    "collapsed": true
   },
   "outputs": [],
   "source": [
    "#Library\n",
    "from bs4 import BeautifulSoup\n",
    "import requests\n",
    "from parse import *\n",
    "import pandas as pd"
   ]
  },
  {
   "cell_type": "markdown",
   "metadata": {
    "collapsed": true
   },
   "source": [
    "# Zip Code Scraping\n",
    "insert each zip code to a list    \n",
    "zip code list == zip_code"
   ]
  },
  {
   "cell_type": "code",
   "execution_count": 3,
   "metadata": {
    "collapsed": true
   },
   "outputs": [
    {
     "name": "stderr",
     "output_type": "stream",
     "text": [
      "/usr/local/lib/python2.7/site-packages/beautifulsoup4-4.4.0-py2.7.egg/bs4/__init__.py:166: UserWarning: No parser was explicitly specified, so I'm using the best available HTML parser for this system (\"lxml\"). This usually isn't a problem, but if you run this code on another system, or in a different virtual environment, it may use a different parser and behave differently.\n",
      "\n",
      "To get rid of this warning, change this:\n",
      "\n",
      " BeautifulSoup([your markup])\n",
      "\n",
      "to this:\n",
      "\n",
      " BeautifulSoup([your markup], \"lxml\")\n",
      "\n"
     ]
    }
   ],
   "source": [
    "url0 = \"https://www.health.ny.gov/statistics/cancer/registry/appendix/neighborhoods.htm\"\n",
    "response = requests.get(url0)\n",
    "page = response.text\n",
    "soup = BeautifulSoup(page)\n",
    "zip_code_ls = []\n",
    "for zip_code in soup.findAll(headers=\"header3\"):\n",
    "    zip_code_ls = zip_code_ls + str(zip_code.getText()).split(',')\n",
    "\n",
    "zip_code = map(int,zip_code_ls)\n",
    "len(zip_code)"
   ]
  },
  {
   "cell_type": "markdown",
   "metadata": {},
   "source": [
    "# Scrap HTML page for each zip code\n",
    "Insert the html page in a dictionary and the zip code as its key    \n",
    "dictionary == demo_dict"
   ]
  },
  {
   "cell_type": "code",
   "execution_count": 5,
   "metadata": {
    "collapsed": false
   },
   "outputs": [],
   "source": [
    "demo_dict = {}\n",
    "for val in zip_code:\n",
    "    url1 = \"http://www.city-data.com/zips/{zi}.html\".format(zi = val)\n",
    "    response = requests.get(url1)\n",
    "    page = response.text\n",
    "    soup = BeautifulSoup(page)\n",
    "\n",
    "    demo_dict[val] = soup\n",
    "del demo_dict[11695] # because zip code 11695 does not have all the data\n",
    "print len(demo_dict)"
   ]
  },
  {
   "cell_type": "markdown",
   "metadata": {},
   "source": [
    "# Parse HTML page\n",
    "Create a dictionary and append it to a list (format purpose)    \n",
    "list name == pop_dict (contains dictionary for each zip code)"
   ]
  },
  {
   "cell_type": "code",
   "execution_count": 137,
   "metadata": {
    "collapsed": false
   },
   "outputs": [],
   "source": [
    "from parse import *\n",
    "pop_dict = []\n",
    "for key in demo_dict:\n",
    "    a = {}\n",
    "    try:\n",
    "        a['postal_code']=key\n",
    "        a['population']=int(filter(lambda x: x.isdigit(), search('zip code population in 2013:</b> {}<br/>', str(demo_dict[key].findAll(class_='row')))[0]))\n",
    "        income = [x for x in search('Estimated median household income in 2013: </b></b><table><tr><td><b>This zip code:{}<b>', str(demo_dict[key].findAll()))[0].split('>') if '$' in x]\n",
    "        a['median_income'] = int(filter(lambda x: x.isdigit(), income[0]))\n",
    "        hsh = [x for x in search('Average household size:</b><table><tr><td><b>This zip code:{}<b>', str(demo_dict[key].findAll()))[0].split('>') if 'people' in x]\n",
    "        a['household_size'] = float(hsh[0].split()[0])\n",
    "        a['inc_10000'] = int(filter(lambda x: x.isdigit(),str([x for x in demo_dict[key].findAll('li') if 'Less than $10,000' in x][0].getText()).split('L')[0]))\n",
    "        a['inc_14999'] = int(filter(lambda x: x.isdigit(),str([x for x in demo_dict[key].findAll('li') if '$10,000 to $14,999' in x][0].getText()).split('$')[0]))\n",
    "        if key == 10007:\n",
    "            a['inc_19999'] = 0\n",
    "        else:\n",
    "            a['inc_19999'] = int(filter(lambda x: x.isdigit(),str([x for x in demo_dict[key].findAll('li') if '$15,000 to $19,999' in x][0].getText()).split('$')[0]))\n",
    "        if key == 10006:\n",
    "            a['inc_24999'] = 0\n",
    "        else:\n",
    "            a['inc_24999'] = int(filter(lambda x: x.isdigit(),str([x for x in demo_dict[key].findAll('li') if '$20,000 to $24,999' in x][0].getText()).split('$')[0]))\n",
    "        a['inc_29999'] = int(filter(lambda x: x.isdigit(),str([x for x in demo_dict[key].findAll('li') if '$25,000 to $29,999' in x][0].getText()).split('$')[0]))\n",
    "        if key in [10007,10464]:\n",
    "            a['inc_34999'] = 0 \n",
    "        else:\n",
    "            a['inc_34999'] = int(filter(lambda x: x.isdigit(),str([x for x in demo_dict[key].findAll('li') if '$30,000 to $34,999' in x][0].getText()).split('$')[0]))\n",
    "        if key == 10005:\n",
    "            a['inc_39999'] =0\n",
    "        else:\n",
    "            a['inc_39999'] = int(filter(lambda x: x.isdigit(),str([x for x in demo_dict[key].findAll('li') if '$35,000 to $39,999' in x][0].getText()).split('$')[0]))\n",
    "        a['inc_44999'] = int(filter(lambda x: x.isdigit(),str([x for x in demo_dict[key].findAll('li') if '$40,000 to $44,999' in x][0].getText()).split('$')[0]))\n",
    "        if key == 10004:\n",
    "            a['inc_49999'] = 0\n",
    "        else:\n",
    "            a['inc_49999'] = int(filter(lambda x: x.isdigit(),str([x for x in demo_dict[key].findAll('li') if '$45,000 to $49,999' in x][0].getText()).split('$')[0]))\n",
    "        a['inc_59999'] = int(filter(lambda x: x.isdigit(),str([x for x in demo_dict[key].findAll('li') if '$50,000 to $59,999' in x][0].getText()).split('$')[0]))\n",
    "        a['inc_74999'] = int(filter(lambda x: x.isdigit(),str([x for x in demo_dict[key].findAll('li') if '$60,000 to $74,999' in x][0].getText()).split('$')[0]))\n",
    "        a['inc_99999'] = int(filter(lambda x: x.isdigit(),str([x for x in demo_dict[key].findAll('li') if '$75,000 to $99,999' in x][0].getText()).split('$')[0]))\n",
    "        a['inc_124999'] = int(filter(lambda x: x.isdigit(),str([x for x in demo_dict[key].findAll('li') if '$100,000 to $124,999' in x][0].getText()).split('$')[0]))\n",
    "        a['inc_149999'] = int(filter(lambda x: x.isdigit(),str([x for x in demo_dict[key].findAll('li') if '$125,000 to $149,999' in x][0].getText()).split('$')[0]))\n",
    "        if key == 10474:\n",
    "            a['inc_199999'] = 0\n",
    "        else:\n",
    "            a['inc_199999'] = int(filter(lambda x: x.isdigit(),str([x for x in demo_dict[key].findAll('li') if '$150,000 to $199,999' in x][0].getText()).split('$')[0]))\n",
    "        if key == 10474:\n",
    "            a['inc_200000'] = 0 \n",
    "        else:\n",
    "            a['inc_200000'] = int(filter(lambda x: x.isdigit(),str([x for x in demo_dict[key].findAll('li') if '$200,000 or more' in x][0].getText()).split('$')[0]))\n",
    "        a['male'] = int(filter(lambda x:x.isdigit(), search('<td><b>Males:</b> {}</td>', str(demo_dict[key].findAll('td')))[0].split(\"\\\\\")[0]))\n",
    "        a['female'] = int(filter(lambda x:x.isdigit(),search('<td><b>Females:</b> {}</td>', str(demo_dict[key].findAll('td')))[0].split(\"\\\\\")[0]))\n",
    "        a['median_age'] = float(search('Median resident age:</b><table><tr><td><b>This zip code:</b></td><td><p class=\"h\" style=\"padding-left:{}</td></tr><tr><td><b>', str(demo_dict[key].findAll(class_='hgraph')))[0].split('>')[-1].split()[0])\n",
    "    except:\n",
    "        if key == 11359:\n",
    "            a['postal_code']=key\n",
    "            a['population']=5963\n",
    "            a['median_income'] = 73237\n",
    "            hsh = [x for x in search('Average household size:</b><table><tr><td><b>This zip code:{}<b>', str(demo_dict[key].findAll()))[0].split('>') if 'people' in x]\n",
    "            a['household_size'] = float(hsh[0].split()[0])\n",
    "            a['inc_10000'] = 28\n",
    "            a['inc_14999'] = 38\n",
    "            a['inc_19999'] = 55\n",
    "            a['inc_24999'] = 35\n",
    "            a['inc_29999'] = 33\n",
    "            a['inc_34999'] = 36\n",
    "            a['inc_39999'] = 55\n",
    "            a['inc_44999'] = 40\n",
    "            a['inc_49999'] = 29\n",
    "            a['inc_59999'] = 31\n",
    "            a['inc_74999'] = 30\n",
    "            a['inc_99999'] = 33\n",
    "            a['inc_124999'] = 30\n",
    "            a['inc_149999'] = 2\n",
    "            a['inc_199999'] = 8\n",
    "            a['inc_200000'] = 1\n",
    "            a['male'] = int(filter(lambda x:x.isdigit(), search('<td><b>Males:</b> {}</td>', str(demo_dict[key].findAll('td')))[0].split(\"\\\\\")[0]))\n",
    "            a['female'] = int(filter(lambda x:x.isdigit(),search('<td><b>Females:</b> {}</td>', str(demo_dict[key].findAll('td')))[0].split(\"\\\\\")[0]))\n",
    "            a['median_age'] = float(search('Median resident age:</b><table><tr><td><b>This zip code:</b></td><td><p class=\"h\" style=\"padding-left:{}</td></tr><tr><td><b>', str(demo_dict[key].findAll(class_='hgraph')))[0].split('>')[-1].split()[0])\n",
    "        elif key == 10020:\n",
    "            a['postal_code']=key\n",
    "            a['population']=70\n",
    "            a['median_income'] = 91974\n",
    "            hsh = [x for x in search('Average household size:</b><table><tr><td><b>This zip code:{}<b>', str(demo_dict[key].findAll()))[0].split('>') if 'people' in x]\n",
    "            a['household_size'] = float(hsh[0].split()[0])\n",
    "            a['household_size'] = float(hsh[0].split()[0])\n",
    "            a['inc_10000'] = 1\n",
    "            a['inc_14999'] = 2\n",
    "            a['inc_19999'] = 4\n",
    "            a['inc_24999'] = 2\n",
    "            a['inc_29999'] = 3\n",
    "            a['inc_34999'] = 2\n",
    "            a['inc_39999'] = 5\n",
    "            a['inc_44999'] = 3\n",
    "            a['inc_49999'] = 1\n",
    "            a['inc_59999'] = 2\n",
    "            a['inc_74999'] = 1\n",
    "            a['inc_99999'] = 1\n",
    "            a['inc_124999'] =1 \n",
    "            a['inc_149999'] = 0\n",
    "            a['inc_199999'] = 1\n",
    "            a['inc_200000'] = 1\n",
    "            a['male'] = int(filter(lambda x:x.isdigit(), search('<td><b>Males:</b> {}</td>', str(demo_dict[key].findAll('td')))[0].split(\"\\\\\")[0]))\n",
    "            a['female'] = int(filter(lambda x:x.isdigit(),search('<td><b>Females:</b> {}</td>', str(demo_dict[key].findAll('td')))[0].split(\"\\\\\")[0]))\n",
    "            a['median_age'] = float(search('Median resident age:</b><table><tr><td><b>This zip code:</b></td><td><p class=\"h\" style=\"padding-left:{}</td></tr><tr><td><b>', str(demo_dict[key].findAll(class_='hgraph')))[0].split('>')[-1].split()[0])\n",
    "    pop_dict.append(a)"
   ]
  },
  {
   "cell_type": "markdown",
   "metadata": {},
   "source": [
    "# Dictionary to Data Frame"
   ]
  },
  {
   "cell_type": "code",
   "execution_count": 139,
   "metadata": {
    "collapsed": false
   },
   "outputs": [],
   "source": [
    "pop_df = pd.DataFrame(pop_dict)"
   ]
  },
  {
   "cell_type": "code",
   "execution_count": 142,
   "metadata": {
    "collapsed": true
   },
   "outputs": [],
   "source": [
    "pop_edu = pd.read_csv(\"pop_zip_edu.csv\")\n",
    "del pop_edu['population']"
   ]
  },
  {
   "cell_type": "code",
   "execution_count": 149,
   "metadata": {
    "collapsed": false
   },
   "outputs": [],
   "source": [
    "# Inner join for pop_df and pop_edu using zip code as the key\n",
    "pop_fin_df = pd.merge(pop_df,pop_edu, on='postal_code', how='inner')"
   ]
  },
  {
   "cell_type": "code",
   "execution_count": 92,
   "metadata": {
    "collapsed": false
   },
   "outputs": [
    {
     "data": {
      "text/plain": [
       "Index([u'$10,000 to $14,999', u'$100,000 to $124,999', u'$125,000 to $149,999',\n",
       "       u'$15,000 to $19,999', u'$150,000 to $199,999', u'$20,000 to $24,999',\n",
       "       u'$200,000 or more', u'$25,000 to $29,999', u'$30,000 to $34,999',\n",
       "       u'$35,000 to $39,999', u'$40,000 to $44,999', u'$45,000 to $49,999',\n",
       "       u'$50,000 to $59,999', u'$60,000 to $74,999', u'$75,000 to $99,999',\n",
       "       u'Less than $10,000', u'household_size', u'median_income',\n",
       "       u'population', u'postal_code'],\n",
       "      dtype='object')"
      ]
     },
     "execution_count": 92,
     "metadata": {},
     "output_type": "execute_result"
    }
   ],
   "source": [
    "pop_df.columns"
   ]
  },
  {
   "cell_type": "code",
   "execution_count": 151,
   "metadata": {
    "collapsed": false
   },
   "outputs": [
    {
     "data": {
      "text/html": [
       "<div>\n",
       "<table border=\"1\" class=\"dataframe\">\n",
       "  <thead>\n",
       "    <tr style=\"text-align: right;\">\n",
       "      <th></th>\n",
       "      <th>female</th>\n",
       "      <th>household_size</th>\n",
       "      <th>inc_10000</th>\n",
       "      <th>inc_124999</th>\n",
       "      <th>inc_14999</th>\n",
       "      <th>inc_149999</th>\n",
       "      <th>inc_19999</th>\n",
       "      <th>inc_199999</th>\n",
       "      <th>inc_200000</th>\n",
       "      <th>inc_24999</th>\n",
       "      <th>...</th>\n",
       "      <th>doctorate_perc</th>\n",
       "      <th>less_high_school</th>\n",
       "      <th>high_school</th>\n",
       "      <th>less_1_college</th>\n",
       "      <th>more_1_college</th>\n",
       "      <th>associate</th>\n",
       "      <th>bachelor</th>\n",
       "      <th>master</th>\n",
       "      <th>professional_degree</th>\n",
       "      <th>doctorate</th>\n",
       "    </tr>\n",
       "  </thead>\n",
       "  <tbody>\n",
       "    <tr>\n",
       "      <th>0</th>\n",
       "      <td>4452</td>\n",
       "      <td>2.1</td>\n",
       "      <td>152</td>\n",
       "      <td>453</td>\n",
       "      <td>76</td>\n",
       "      <td>447</td>\n",
       "      <td>33</td>\n",
       "      <td>623</td>\n",
       "      <td>1203</td>\n",
       "      <td>31</td>\n",
       "      <td>...</td>\n",
       "      <td>6.2</td>\n",
       "      <td>199.755</td>\n",
       "      <td>382.140</td>\n",
       "      <td>130.275</td>\n",
       "      <td>720.855</td>\n",
       "      <td>356.085</td>\n",
       "      <td>3656.385</td>\n",
       "      <td>1936.755</td>\n",
       "      <td>764.280</td>\n",
       "      <td>538.470</td>\n",
       "    </tr>\n",
       "    <tr>\n",
       "      <th>1</th>\n",
       "      <td>19385</td>\n",
       "      <td>2.5</td>\n",
       "      <td>1538</td>\n",
       "      <td>1192</td>\n",
       "      <td>730</td>\n",
       "      <td>783</td>\n",
       "      <td>484</td>\n",
       "      <td>695</td>\n",
       "      <td>816</td>\n",
       "      <td>812</td>\n",
       "      <td>...</td>\n",
       "      <td>0.8</td>\n",
       "      <td>6143.830</td>\n",
       "      <td>10382.295</td>\n",
       "      <td>1477.630</td>\n",
       "      <td>5093.935</td>\n",
       "      <td>2877.490</td>\n",
       "      <td>7271.495</td>\n",
       "      <td>4238.465</td>\n",
       "      <td>1088.780</td>\n",
       "      <td>311.080</td>\n",
       "    </tr>\n",
       "    <tr>\n",
       "      <th>2</th>\n",
       "      <td>8666</td>\n",
       "      <td>2.9</td>\n",
       "      <td>717</td>\n",
       "      <td>339</td>\n",
       "      <td>300</td>\n",
       "      <td>388</td>\n",
       "      <td>208</td>\n",
       "      <td>409</td>\n",
       "      <td>240</td>\n",
       "      <td>342</td>\n",
       "      <td>...</td>\n",
       "      <td>0.7</td>\n",
       "      <td>3210.901</td>\n",
       "      <td>5766.173</td>\n",
       "      <td>958.227</td>\n",
       "      <td>2319.918</td>\n",
       "      <td>1042.282</td>\n",
       "      <td>2370.351</td>\n",
       "      <td>840.550</td>\n",
       "      <td>201.732</td>\n",
       "      <td>117.677</td>\n",
       "    </tr>\n",
       "    <tr>\n",
       "      <th>3</th>\n",
       "      <td>13118</td>\n",
       "      <td>3.0</td>\n",
       "      <td>1078</td>\n",
       "      <td>742</td>\n",
       "      <td>459</td>\n",
       "      <td>667</td>\n",
       "      <td>296</td>\n",
       "      <td>370</td>\n",
       "      <td>233</td>\n",
       "      <td>433</td>\n",
       "      <td>...</td>\n",
       "      <td>0.4</td>\n",
       "      <td>4195.827</td>\n",
       "      <td>8318.043</td>\n",
       "      <td>956.943</td>\n",
       "      <td>3140.736</td>\n",
       "      <td>2380.089</td>\n",
       "      <td>3582.402</td>\n",
       "      <td>1717.590</td>\n",
       "      <td>147.222</td>\n",
       "      <td>98.148</td>\n",
       "    </tr>\n",
       "    <tr>\n",
       "      <th>4</th>\n",
       "      <td>23009</td>\n",
       "      <td>2.8</td>\n",
       "      <td>1404</td>\n",
       "      <td>1459</td>\n",
       "      <td>699</td>\n",
       "      <td>730</td>\n",
       "      <td>701</td>\n",
       "      <td>815</td>\n",
       "      <td>906</td>\n",
       "      <td>735</td>\n",
       "      <td>...</td>\n",
       "      <td>1.1</td>\n",
       "      <td>8358.296</td>\n",
       "      <td>13011.368</td>\n",
       "      <td>1981.864</td>\n",
       "      <td>5040.828</td>\n",
       "      <td>2671.208</td>\n",
       "      <td>6893.440</td>\n",
       "      <td>3274.384</td>\n",
       "      <td>1421.772</td>\n",
       "      <td>473.924</td>\n",
       "    </tr>\n",
       "  </tbody>\n",
       "</table>\n",
       "<p>5 rows × 42 columns</p>\n",
       "</div>"
      ],
      "text/plain": [
       "   female  household_size  inc_10000  inc_124999  inc_14999  inc_149999  \\\n",
       "0    4452             2.1        152         453         76         447   \n",
       "1   19385             2.5       1538        1192        730         783   \n",
       "2    8666             2.9        717         339        300         388   \n",
       "3   13118             3.0       1078         742        459         667   \n",
       "4   23009             2.8       1404        1459        699         730   \n",
       "\n",
       "   inc_19999  inc_199999  inc_200000  inc_24999    ...      doctorate_perc  \\\n",
       "0         33         623        1203         31    ...                 6.2   \n",
       "1        484         695         816        812    ...                 0.8   \n",
       "2        208         409         240        342    ...                 0.7   \n",
       "3        296         370         233        433    ...                 0.4   \n",
       "4        701         815         906        735    ...                 1.1   \n",
       "\n",
       "   less_high_school  high_school  less_1_college  more_1_college  associate  \\\n",
       "0           199.755      382.140         130.275         720.855    356.085   \n",
       "1          6143.830    10382.295        1477.630        5093.935   2877.490   \n",
       "2          3210.901     5766.173         958.227        2319.918   1042.282   \n",
       "3          4195.827     8318.043         956.943        3140.736   2380.089   \n",
       "4          8358.296    13011.368        1981.864        5040.828   2671.208   \n",
       "\n",
       "   bachelor    master  professional_degree  doctorate  \n",
       "0  3656.385  1936.755              764.280    538.470  \n",
       "1  7271.495  4238.465             1088.780    311.080  \n",
       "2  2370.351   840.550              201.732    117.677  \n",
       "3  3582.402  1717.590              147.222     98.148  \n",
       "4  6893.440  3274.384             1421.772    473.924  \n",
       "\n",
       "[5 rows x 42 columns]"
      ]
     },
     "execution_count": 151,
     "metadata": {},
     "output_type": "execute_result"
    }
   ],
   "source": [
    "pop_fin_df.head()"
   ]
  },
  {
   "cell_type": "markdown",
   "metadata": {},
   "source": [
    "# Data Frame to CSV File"
   ]
  },
  {
   "cell_type": "code",
   "execution_count": 150,
   "metadata": {
    "collapsed": true
   },
   "outputs": [],
   "source": [
    "pop_fin_df.to_csv(\"pop_zip.csv\")"
   ]
  }
 ],
 "metadata": {
  "kernelspec": {
   "display_name": "Python 2",
   "language": "python",
   "name": "python2"
  },
  "language_info": {
   "codemirror_mode": {
    "name": "ipython",
    "version": 2
   },
   "file_extension": ".py",
   "mimetype": "text/x-python",
   "name": "python",
   "nbconvert_exporter": "python",
   "pygments_lexer": "ipython2",
   "version": "2.7.10"
  }
 },
 "nbformat": 4,
 "nbformat_minor": 0
}
